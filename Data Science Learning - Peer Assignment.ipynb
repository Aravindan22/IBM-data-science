{
 "cells": [
  {
   "cell_type": "markdown",
   "metadata": {
    "collapsed": true
   },
   "source": [
    "<h1>My Jupyter Notebook on IBM Watson Studio</h1>"
   ]
  },
  {
   "cell_type": "markdown",
   "metadata": {},
   "source": [
    "<b>Aravindan</b></br>\n",
    "Data Scientist"
   ]
  },
  {
   "cell_type": "markdown",
   "metadata": {},
   "source": [
    "<i>I am Interseted in Data Science because it will unveil the unexplored things and feeds my curiosity</i>"
   ]
  },
  {
   "cell_type": "markdown",
   "metadata": {},
   "source": [
    "<h3>Adding two Strings</h3>"
   ]
  },
  {
   "cell_type": "code",
   "execution_count": 1,
   "metadata": {},
   "outputs": [
    {
     "data": {
      "text/plain": [
       "'HelloWorld'"
      ]
     },
     "execution_count": 1,
     "metadata": {},
     "output_type": "execute_result"
    }
   ],
   "source": [
    "\"Hello\" + \"World\""
   ]
  },
  {
   "cell_type": "markdown",
   "metadata": {},
   "source": [
    "<!-- Using HTML -->\n",
    "\n",
    "<!-- Horizontal Rule -->\n",
    "<hr>\n",
    "\n",
    "<!-- Bulleted List -->\n",
    "<ul>\n",
    "  <li>1</li>\n",
    "  <li>2</li>\n",
    "  <li>3</li>\n",
    "</ul>\n",
    "\n",
    "<!-- Numbered List -->\n",
    "<ol>\n",
    "  <li>1</li>\n",
    "  <li>2</li>\n",
    "  <li>3</li>\n",
    "</ol>\n",
    "\n",
    "<!-- Table -->\n",
    "<table>\n",
    "  <tr>\n",
    "    <th>Column 1</th>\n",
    "    <th>Column 2</th>\n",
    "  </tr>\n",
    "  <tr>\n",
    "    <td>Row 1, Column 1</td>\n",
    "    <td>Row 1, Column 2</td>\n",
    "  </tr>\n",
    "  <tr>\n",
    "    <td>Row 2, Column 1</td>\n",
    "    <td>Row 2, Column 2</td>\n",
    "  </tr>\n",
    "</table>\n",
    "\n",
    "\n",
    "<!-- Blocked Quote -->\n",
    "<blockquote>\n",
    "  <p>A block quote example</p>\n",
    "</blockquote>\n",
    "\n",
    "<!-- Strikethrough -->\n",
    "<s>Strikethrough text</s>\n"
   ]
  }
 ],
 "metadata": {
  "kernelspec": {
   "display_name": "Python 3.10",
   "language": "python",
   "name": "python3"
  },
  "language_info": {
   "codemirror_mode": {
    "name": "ipython",
    "version": 3
   },
   "file_extension": ".py",
   "mimetype": "text/x-python",
   "name": "python",
   "nbconvert_exporter": "python",
   "pygments_lexer": "ipython3",
   "version": "3.10.6"
  }
 },
 "nbformat": 4,
 "nbformat_minor": 1
}
